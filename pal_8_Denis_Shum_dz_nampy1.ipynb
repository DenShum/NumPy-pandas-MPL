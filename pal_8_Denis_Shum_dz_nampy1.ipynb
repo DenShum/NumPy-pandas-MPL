{
  "nbformat": 4,
  "nbformat_minor": 0,
  "metadata": {
    "colab": {
      "name": "pal-8_Denis_Shum_dz_nampy1.ipynb",
      "provenance": [],
      "collapsed_sections": [],
      "authorship_tag": "ABX9TyNJviPtnHVvgxLItjByRnj0",
      "include_colab_link": true
    },
    "kernelspec": {
      "name": "python3",
      "display_name": "Python 3"
    },
    "language_info": {
      "name": "python"
    }
  },
  "cells": [
    {
      "cell_type": "markdown",
      "metadata": {
        "id": "view-in-github",
        "colab_type": "text"
      },
      "source": [
        "<a href=\"https://colab.research.google.com/github/DenShum/NumPy-pandas-MPL/blob/main/pal_8_Denis_Shum_dz_nampy1.ipynb\" target=\"_parent\"><img src=\"https://colab.research.google.com/assets/colab-badge.svg\" alt=\"Open In Colab\"/></a>"
      ]
    },
    {
      "cell_type": "markdown",
      "metadata": {
        "id": "Hr3SyieZKm2b"
      },
      "source": [
        "Задание 1\n",
        "Создайте numpy array с элементами от числа N до 0 (например, для N = 10 это будет array([9, 8, 7, 6, 5, 4, 3, 2, 1, 0]))."
      ]
    },
    {
      "cell_type": "code",
      "metadata": {
        "colab": {
          "base_uri": "https://localhost:8080/"
        },
        "id": "3WCb6YZEKt6M",
        "outputId": "be3a91bc-0663-4afa-f83b-52b243f7a709"
      },
      "source": [
        "import numpy as np\n",
        "\n",
        "a = np.arange(0,10)\n",
        "x = a[::-1]\n",
        "x\n"
      ],
      "execution_count": null,
      "outputs": [
        {
          "output_type": "execute_result",
          "data": {
            "text/plain": [
              "array([9, 8, 7, 6, 5, 4, 3, 2, 1, 0])"
            ]
          },
          "metadata": {
            "tags": []
          },
          "execution_count": 3
        }
      ]
    },
    {
      "cell_type": "code",
      "metadata": {
        "colab": {
          "base_uri": "https://localhost:8080/"
        },
        "id": "KN1DofBGY1dj",
        "outputId": "f6b617ce-4c30-45fa-fa25-6b064f8777ba"
      },
      "source": [
        "b = np.array([9,8,7,6,5,4,3,2,1,0])\n",
        "b"
      ],
      "execution_count": null,
      "outputs": [
        {
          "output_type": "execute_result",
          "data": {
            "text/plain": [
              "array([9, 8, 7, 6, 5, 4, 3, 2, 1, 0])"
            ]
          },
          "metadata": {
            "tags": []
          },
          "execution_count": 3
        }
      ]
    },
    {
      "cell_type": "markdown",
      "metadata": {
        "id": "P0dVKNgkZ4xW"
      },
      "source": [
        "Задание 2\n",
        "Создайте диагональную матрицу с элементами от N до 0. Посчитайте сумму ее значений на диагонали."
      ]
    },
    {
      "cell_type": "code",
      "metadata": {
        "colab": {
          "base_uri": "https://localhost:8080/"
        },
        "id": "u39FFWjdc9vF",
        "outputId": "66976bae-fbb5-4320-e8b1-b83970100b35"
      },
      "source": [
        "data = np.diag(x, k=0)\n",
        "data\n"
      ],
      "execution_count": null,
      "outputs": [
        {
          "output_type": "execute_result",
          "data": {
            "text/plain": [
              "array([[9, 0, 0, 0, 0, 0, 0, 0, 0, 0],\n",
              "       [0, 8, 0, 0, 0, 0, 0, 0, 0, 0],\n",
              "       [0, 0, 7, 0, 0, 0, 0, 0, 0, 0],\n",
              "       [0, 0, 0, 6, 0, 0, 0, 0, 0, 0],\n",
              "       [0, 0, 0, 0, 5, 0, 0, 0, 0, 0],\n",
              "       [0, 0, 0, 0, 0, 4, 0, 0, 0, 0],\n",
              "       [0, 0, 0, 0, 0, 0, 3, 0, 0, 0],\n",
              "       [0, 0, 0, 0, 0, 0, 0, 2, 0, 0],\n",
              "       [0, 0, 0, 0, 0, 0, 0, 0, 1, 0],\n",
              "       [0, 0, 0, 0, 0, 0, 0, 0, 0, 0]])"
            ]
          },
          "metadata": {
            "tags": []
          },
          "execution_count": 4
        }
      ]
    },
    {
      "cell_type": "code",
      "metadata": {
        "colab": {
          "base_uri": "https://localhost:8080/"
        },
        "id": "1d9CGzDxZ59j",
        "outputId": "56418949-9711-4013-a3f4-60b97bdd8ec7"
      },
      "source": [
        "data = np.diag(x, k=0) # сумма элементов диагонали 1 вариант\n",
        "res = 0\n",
        "index = 0\n",
        "for row in data:\n",
        "  res += row[index]\n",
        "  index += 1\n",
        "  print(res)"
      ],
      "execution_count": null,
      "outputs": [
        {
          "output_type": "stream",
          "text": [
            "9\n",
            "17\n",
            "24\n",
            "30\n",
            "35\n",
            "39\n",
            "42\n",
            "44\n",
            "45\n",
            "45\n"
          ],
          "name": "stdout"
        }
      ]
    },
    {
      "cell_type": "code",
      "metadata": {
        "colab": {
          "base_uri": "https://localhost:8080/"
        },
        "id": "R0kOryBx5R8S",
        "outputId": "32016de0-421b-4e7b-cfd8-6707ba852726"
      },
      "source": [
        "diag_ = np.diagonal(data) #сумма элементов диагонали 2 вариант\n",
        "diag_sum = sum(diag_)\n",
        "diag_sum"
      ],
      "execution_count": null,
      "outputs": [
        {
          "output_type": "execute_result",
          "data": {
            "text/plain": [
              "45"
            ]
          },
          "metadata": {
            "tags": []
          },
          "execution_count": 6
        }
      ]
    },
    {
      "cell_type": "markdown",
      "metadata": {
        "id": "algf_iLnk8kv"
      },
      "source": [
        "Задание 3\n",
        "Решите систему уравнений:\n",
        "4x + 2y + z = 4;\n",
        "x + 3y = 12;\n",
        "5y + 4z = -3"
      ]
    },
    {
      "cell_type": "code",
      "metadata": {
        "id": "N4NUNCaflDpd",
        "colab": {
          "base_uri": "https://localhost:8080/"
        },
        "outputId": "58a5e269-75dd-4394-e126-5129e3aa8a8b"
      },
      "source": [
        "c = np.array([[4,2,1],[1,3,0],[5,4,0]])\n",
        "d = np.array([4,12,-3])\n",
        "from numpy import linalg\n",
        "linalg.solve(c,d)"
      ],
      "execution_count": null,
      "outputs": [
        {
          "output_type": "execute_result",
          "data": {
            "text/plain": [
              "array([-5.18181818,  5.72727273, 13.27272727])"
            ]
          },
          "metadata": {
            "tags": []
          },
          "execution_count": 7
        }
      ]
    },
    {
      "cell_type": "markdown",
      "metadata": {
        "id": "7fbGQjsblE85"
      },
      "source": [
        "Задание 4\n",
        "В материалах занятия раздел “Задача 4 домашнего задания”\n"
      ]
    },
    {
      "cell_type": "code",
      "metadata": {
        "id": "-s0t6Vr8lJ3d",
        "colab": {
          "base_uri": "https://localhost:8080/"
        },
        "outputId": "a01ac133-b74a-48bc-df4b-1878fcabf482"
      },
      "source": [
        "users_stats = np.array(\n",
        "    [\n",
        "        [2, 1, 0, 0, 0, 0],\n",
        "        [1, 1, 2, 1, 0, 0],\n",
        "        [2, 0, 1, 0, 0, 0],\n",
        "        [1, 1, 2, 1, 0, 1],\n",
        "        [0, 0, 1, 2, 0, 0],\n",
        "        [0, 0, 0, 0, 0, 5],\n",
        "        [1, 0, 0, 0, 0, 0],\n",
        "        [0, 1, 1, 0, 0, 0],\n",
        "        [0, 0, 0, 1, 1, 3],\n",
        "        [1, 0, 0, 2, 1, 4]\n",
        "    ]\n",
        ")\n",
        "\n",
        "next_user_stats = np.array([0, 1, 2, 0, 0, 0])\n",
        "next_user_statsLength = np.linalg.norm(next_user_stats)\n",
        "\n",
        "def cosine():\n",
        "  index = 0\n",
        "  for i,user in enumerate(users_stats):\n",
        "    user_Length = np.linalg.norm(users_stats[index])\n",
        "    x = np.dot(next_user_stats,users_stats[index])/(next_user_statsLength*user_Length)\n",
        "    index += 1\n",
        "    print(i+1,x) ##Пользователь с ID 8 наиболее похож на нового пользователя\n",
        "\n",
        "cosine()\n"
      ],
      "execution_count": null,
      "outputs": [
        {
          "output_type": "stream",
          "text": [
            "1 0.19999999999999996\n",
            "2 0.8451542547285165\n",
            "3 0.3999999999999999\n",
            "4 0.7905694150420948\n",
            "5 0.3999999999999999\n",
            "6 0.0\n",
            "7 0.0\n",
            "8 0.9486832980505138\n",
            "9 0.0\n",
            "10 0.0\n"
          ],
          "name": "stdout"
        }
      ]
    },
    {
      "cell_type": "code",
      "metadata": {
        "colab": {
          "base_uri": "https://localhost:8080/"
        },
        "id": "JFBD7MYpU56z",
        "outputId": "62f99b8e-b615-4be5-f2af-73c83d7d0385"
      },
      "source": [
        "users_stats = np.array(\n",
        "    [\n",
        "        [2, 1, 0, 0, 0, 0],\n",
        "        [1, 1, 2, 1, 0, 0],\n",
        "        [2, 0, 1, 0, 0, 0],\n",
        "        [1, 1, 2, 1, 0, 1],\n",
        "        [0, 0, 1, 2, 0, 0],\n",
        "        [0, 0, 0, 0, 0, 5],\n",
        "        [1, 0, 0, 0, 0, 0],\n",
        "        [0, 1, 1, 0, 0, 0],\n",
        "        [0, 0, 0, 1, 1, 3],\n",
        "        [1, 0, 0, 2, 1, 4]\n",
        "    ]\n",
        ")\n",
        "\n",
        "next_user_stats = np.array([0, 1, 2, 0, 0, 0])\n",
        "next_user_statsLength = np.linalg.norm(next_user_stats)\n",
        "def cosine():\n",
        "    user0_Length = np.linalg.norm(users_stats[0])\n",
        "    user0 = np.dot(next_user_stats,users_stats[0])/(next_user_statsLength*user0_Length)\n",
        "    user1_Length = np.linalg.norm(users_stats[1])\n",
        "    user1 = np.dot(next_user_stats,users_stats[1])/(next_user_statsLength*user1_Length)\n",
        "    user2_Length = np.linalg.norm(users_stats[2])\n",
        "    user2 = np.dot(next_user_stats,users_stats[2])/(next_user_statsLength*user2_Length)\n",
        "    user3_Length = np.linalg.norm(users_stats[3])\n",
        "    user3 = np.dot(next_user_stats,users_stats[3])/(next_user_statsLength*user3_Length)\n",
        "    user4_Length = np.linalg.norm(users_stats[4])\n",
        "    user4 = np.dot(next_user_stats,users_stats[4])/(next_user_statsLength*user4_Length)\n",
        "    user5_Length = np.linalg.norm(users_stats[5])\n",
        "    user5 = np.dot(next_user_stats,users_stats[5])/(next_user_statsLength*user5_Length)\n",
        "    user6_Length = np.linalg.norm(users_stats[6])\n",
        "    user6 = np.dot(next_user_stats,users_stats[6])/(next_user_statsLength*user6_Length) \n",
        "    user7_Length = np.linalg.norm(users_stats[7])\n",
        "    user7 = np.dot(next_user_stats,users_stats[7])/(next_user_statsLength*user7_Length)\n",
        "    user8_Length = np.linalg.norm(users_stats[8])\n",
        "    user8 = np.dot(next_user_stats,users_stats[8])/(next_user_statsLength*user8_Length)\n",
        "    user9_Length = np.linalg.norm(users_stats[9])\n",
        "    user9 = np.dot(next_user_stats,users_stats[9])/(next_user_statsLength*user9_Length)\n",
        "    print(user0)\n",
        "    print(user1)\n",
        "    print(user2)\n",
        "    print(user3)\n",
        "    print(user4)\n",
        "    print(user5)\n",
        "    print(user6)\n",
        "    print(user7)#Пользователь с ID 8 наиболее похож на нового пользователя\n",
        "    print(user8)\n",
        "    print(user9)\n",
        "\n",
        "cosine()"
      ],
      "execution_count": null,
      "outputs": [
        {
          "output_type": "stream",
          "text": [
            "0.19999999999999996\n",
            "0.8451542547285165\n",
            "0.3999999999999999\n",
            "0.7905694150420948\n",
            "0.3999999999999999\n",
            "0.0\n",
            "0.0\n",
            "0.9486832980505138\n",
            "0.0\n",
            "0.0\n"
          ],
          "name": "stdout"
        }
      ]
    }
  ]
}