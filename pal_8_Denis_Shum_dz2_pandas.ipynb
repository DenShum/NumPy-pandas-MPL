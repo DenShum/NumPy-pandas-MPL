{
  "nbformat": 4,
  "nbformat_minor": 0,
  "metadata": {
    "colab": {
      "name": "pal-8_Denis_Shum_dz2_pandas.ipynb",
      "provenance": [],
      "collapsed_sections": [],
      "authorship_tag": "ABX9TyMFwcr33sPwD+W6DnvEsSeI",
      "include_colab_link": true
    },
    "kernelspec": {
      "name": "python3",
      "display_name": "Python 3"
    },
    "language_info": {
      "name": "python"
    }
  },
  "cells": [
    {
      "cell_type": "markdown",
      "metadata": {
        "id": "view-in-github",
        "colab_type": "text"
      },
      "source": [
        "<a href=\"https://colab.research.google.com/github/DenShum/NumPy-pandas-MPL/blob/main/pal_8_Denis_Shum_dz2_pandas.ipynb\" target=\"_parent\"><img src=\"https://colab.research.google.com/assets/colab-badge.svg\" alt=\"Open In Colab\"/></a>"
      ]
    },
    {
      "cell_type": "markdown",
      "metadata": {
        "id": "zb2CO1kg8rrs"
      },
      "source": [
        "Задание 1\n",
        "Скачайте с сайта grouplens.org...movielens/ датасет любого размера. Определите какому фильму было выставлено больше всего оценок 5.0.\n"
      ]
    },
    {
      "cell_type": "code",
      "metadata": {
        "colab": {
          "base_uri": "https://localhost:8080/"
        },
        "id": "gk3VTQiA8syF",
        "outputId": "a6704655-6e54-4c9c-f019-d34a40fe763e"
      },
      "source": [
        "import pandas as pd #  Forrest Gump (1994)\n",
        "data = pd.read_csv('ratings.csv')\n",
        "data[data.rating == 5] #отфильтровали по рейтингу\n",
        "data['movieId'].value_counts().head(100)"
      ],
      "execution_count": null,
      "outputs": [
        {
          "output_type": "execute_result",
          "data": {
            "text/plain": [
              "356     329\n",
              "318     317\n",
              "296     307\n",
              "593     279\n",
              "2571    278\n",
              "       ... \n",
              "5989    115\n",
              "587     115\n",
              "208     115\n",
              "1968    113\n",
              "5418    112\n",
              "Name: movieId, Length: 100, dtype: int64"
            ]
          },
          "metadata": {
            "tags": []
          },
          "execution_count": 77
        }
      ]
    },
    {
      "cell_type": "code",
      "metadata": {
        "colab": {
          "base_uri": "https://localhost:8080/",
          "height": 80
        },
        "id": "7ntXbl5wEra1",
        "outputId": "304718e7-ba8a-4fd2-daa4-99389fa3f19b"
      },
      "source": [
        "data_mov = pd.read_csv('movies.csv')\n",
        "filter_mov = data_mov[(data_mov['movieId'] == 356)]\n",
        "filter_mov"
      ],
      "execution_count": null,
      "outputs": [
        {
          "output_type": "execute_result",
          "data": {
            "text/html": [
              "<div>\n",
              "<style scoped>\n",
              "    .dataframe tbody tr th:only-of-type {\n",
              "        vertical-align: middle;\n",
              "    }\n",
              "\n",
              "    .dataframe tbody tr th {\n",
              "        vertical-align: top;\n",
              "    }\n",
              "\n",
              "    .dataframe thead th {\n",
              "        text-align: right;\n",
              "    }\n",
              "</style>\n",
              "<table border=\"1\" class=\"dataframe\">\n",
              "  <thead>\n",
              "    <tr style=\"text-align: right;\">\n",
              "      <th></th>\n",
              "      <th>movieId</th>\n",
              "      <th>title</th>\n",
              "      <th>genres</th>\n",
              "    </tr>\n",
              "  </thead>\n",
              "  <tbody>\n",
              "    <tr>\n",
              "      <th>314</th>\n",
              "      <td>356</td>\n",
              "      <td>Forrest Gump (1994)</td>\n",
              "      <td>Comedy|Drama|Romance|War</td>\n",
              "    </tr>\n",
              "  </tbody>\n",
              "</table>\n",
              "</div>"
            ],
            "text/plain": [
              "     movieId                title                    genres\n",
              "314      356  Forrest Gump (1994)  Comedy|Drama|Romance|War"
            ]
          },
          "metadata": {
            "tags": []
          },
          "execution_count": 52
        }
      ]
    },
    {
      "cell_type": "markdown",
      "metadata": {
        "id": "qCOCS_bcMHfr"
      },
      "source": [
        "Задание 2\n",
        "По данным файла power.csv посчитайте суммарное потребление стран Прибалтики (Латвия, Литва и Эстония) категорий 4, 12 и 21 за период с 2005 по 2010 года. Не учитывайте в расчетах отрицательные значения quantity."
      ]
    },
    {
      "cell_type": "code",
      "metadata": {
        "id": "3ftVetbCMMg3"
      },
      "source": [
        "data_power = pd.read_csv('power.csv')\n",
        "# filt = data_power[(data_power['category'] == 12)] #распределение стран в зависимости от категории\n",
        "# filt['country'].unique()"
      ],
      "execution_count": null,
      "outputs": []
    },
    {
      "cell_type": "code",
      "metadata": {
        "colab": {
          "base_uri": "https://localhost:8080/"
        },
        "id": "UMC5QkpVAGtr",
        "outputId": "cea168e1-9f9d-42bc-cd02-daf6023210c7"
      },
      "source": [
        "filter_country = data_power[(data_power['country'].str.contains('lit', case=False)&(data_power['year']<=2010) & (data_power['year']>=2005)&(data_power['category']==4))\n",
        "|(data_power['country'].str.contains('lit', case=False)&(data_power['year']<=2010) & (data_power['year']>=2005)&(data_power['category']==12))\n",
        "|(data_power['country'].str.contains('lit', case=False)&(data_power['year']<=2010) & (data_power['year']>=2005)&(data_power['category']==21))\n",
        "|(data_power['country'].str.contains('lat', case=False)&(data_power['year']<=2010) & (data_power['year']>=2005)&(data_power['category']>4))\n",
        "|(data_power['country'].str.contains('lat', case=False)&(data_power['year']<=2010) & (data_power['year']>=2005)&(data_power['category']>12))\n",
        "|(data_power['country'].str.contains('lat', case=False)&(data_power['year']<=2010) & (data_power['year']>=2005)&(data_power['category']>21))\n",
        "|(data_power['country'].str.contains('eston', case=False)&(data_power['year']<=2010) & (data_power['year']>=2005)&(data_power['category']>12))\n",
        "|(data_power['country'].str.contains('eston', case=False)&(data_power['year']<=2010) & (data_power['year']>=2005)&(data_power['category']>21))\n",
        "|(data_power['country'].str.contains('eston', case=False)&(data_power['year']<=2010) & (data_power['year']>=2005)&(data_power['category']>4))]\n",
        "res = filter_country[filter_country.quantity > 0]\n",
        "result_ = res['quantity'].sum()\n",
        "result_\n"
      ],
      "execution_count": null,
      "outputs": [
        {
          "output_type": "execute_result",
          "data": {
            "text/plain": [
              "18441005.073344536"
            ]
          },
          "metadata": {
            "tags": []
          },
          "execution_count": 91
        }
      ]
    },
    {
      "cell_type": "code",
      "metadata": {
        "colab": {
          "base_uri": "https://localhost:8080/",
          "height": 203
        },
        "id": "h2WCKb2fsdNa",
        "outputId": "322f2dcb-ab75-4790-f1cc-fdc8027a2d7b"
      },
      "source": [
        "data_power.head()"
      ],
      "execution_count": null,
      "outputs": [
        {
          "output_type": "execute_result",
          "data": {
            "text/html": [
              "<div>\n",
              "<style scoped>\n",
              "    .dataframe tbody tr th:only-of-type {\n",
              "        vertical-align: middle;\n",
              "    }\n",
              "\n",
              "    .dataframe tbody tr th {\n",
              "        vertical-align: top;\n",
              "    }\n",
              "\n",
              "    .dataframe thead th {\n",
              "        text-align: right;\n",
              "    }\n",
              "</style>\n",
              "<table border=\"1\" class=\"dataframe\">\n",
              "  <thead>\n",
              "    <tr style=\"text-align: right;\">\n",
              "      <th></th>\n",
              "      <th>country</th>\n",
              "      <th>year</th>\n",
              "      <th>quantity</th>\n",
              "      <th>category</th>\n",
              "    </tr>\n",
              "  </thead>\n",
              "  <tbody>\n",
              "    <tr>\n",
              "      <th>0</th>\n",
              "      <td>Austria</td>\n",
              "      <td>1996</td>\n",
              "      <td>5.0</td>\n",
              "      <td>1</td>\n",
              "    </tr>\n",
              "    <tr>\n",
              "      <th>1</th>\n",
              "      <td>Austria</td>\n",
              "      <td>1995</td>\n",
              "      <td>17.0</td>\n",
              "      <td>1</td>\n",
              "    </tr>\n",
              "    <tr>\n",
              "      <th>2</th>\n",
              "      <td>Belgium</td>\n",
              "      <td>2014</td>\n",
              "      <td>0.0</td>\n",
              "      <td>1</td>\n",
              "    </tr>\n",
              "    <tr>\n",
              "      <th>3</th>\n",
              "      <td>Belgium</td>\n",
              "      <td>2013</td>\n",
              "      <td>0.0</td>\n",
              "      <td>1</td>\n",
              "    </tr>\n",
              "    <tr>\n",
              "      <th>4</th>\n",
              "      <td>Belgium</td>\n",
              "      <td>2012</td>\n",
              "      <td>35.0</td>\n",
              "      <td>1</td>\n",
              "    </tr>\n",
              "  </tbody>\n",
              "</table>\n",
              "</div>"
            ],
            "text/plain": [
              "   country  year  quantity  category\n",
              "0  Austria  1996       5.0         1\n",
              "1  Austria  1995      17.0         1\n",
              "2  Belgium  2014       0.0         1\n",
              "3  Belgium  2013       0.0         1\n",
              "4  Belgium  2012      35.0         1"
            ]
          },
          "metadata": {
            "tags": []
          },
          "execution_count": 78
        }
      ]
    },
    {
      "cell_type": "code",
      "metadata": {
        "id": "OczJMErcoYFa"
      },
      "source": [
        ""
      ],
      "execution_count": null,
      "outputs": []
    },
    {
      "cell_type": "markdown",
      "metadata": {
        "id": "SsF5oP40XUJi"
      },
      "source": [
        "Задание 3\n",
        "Выберите страницу любого сайта с табличными данными. Импортируйте таблицы в pandas dataframe.\n",
        "Примеры страниц (необязательно брать именно эти):"
      ]
    },
    {
      "cell_type": "code",
      "metadata": {
        "id": "1jeD9DCVXawx"
      },
      "source": [
        "pd.read_html('https://www.fontanka.ru/currency.html')[0]"
      ],
      "execution_count": null,
      "outputs": []
    }
  ]
}