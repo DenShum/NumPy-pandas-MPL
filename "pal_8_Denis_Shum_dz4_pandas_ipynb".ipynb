{
  "nbformat": 4,
  "nbformat_minor": 0,
  "metadata": {
    "colab": {
      "name": " \"pal-8_Denis_Shum_dz4_pandas.ipynb\"",
      "provenance": [],
      "collapsed_sections": [],
      "authorship_tag": "ABX9TyO5KGP7DuBAp8kA5nCpLON7",
      "include_colab_link": true
    },
    "kernelspec": {
      "name": "python3",
      "display_name": "Python 3"
    },
    "language_info": {
      "name": "python"
    }
  },
  "cells": [
    {
      "cell_type": "markdown",
      "metadata": {
        "id": "view-in-github",
        "colab_type": "text"
      },
      "source": [
        "<a href=\"https://colab.research.google.com/github/DenShum/NumPy-pandas-MPL/blob/main/%22pal_8_Denis_Shum_dz4_pandas_ipynb%22.ipynb\" target=\"_parent\"><img src=\"https://colab.research.google.com/assets/colab-badge.svg\" alt=\"Open In Colab\"/></a>"
      ]
    },
    {
      "cell_type": "markdown",
      "metadata": {
        "id": "zb2CO1kg8rrs"
      },
      "source": [
        "Задание 1\n",
        "\n",
        "Для датафрейма log из материалов занятия создайте столбец source_type по следующим правилам:\n",
        "\n",
        "- если источник traffic_source_source равен yandex или google, то в source_type ставится organic\n",
        "\n",
        "- для источников paid и email из России - ставим ad\n",
        "\n",
        "- для источников paid и email не из России - ставим other\n",
        "\n",
        "- все остальные варианты берем из traffic_source_source без изменений\n"
      ]
    },
    {
      "cell_type": "code",
      "metadata": {
        "colab": {
          "base_uri": "https://localhost:8080/",
          "height": 202
        },
        "id": "8wnQ6Rq86NlA",
        "outputId": "3f8faf0b-20ce-4cc9-feca-1ca7bf313f0e"
      },
      "source": [
        "import pandas as pd\n",
        "data = pd.read_csv('visit_log.csv', sep=';')\n",
        "data.head()"
      ],
      "execution_count": null,
      "outputs": [
        {
          "output_type": "execute_result",
          "data": {
            "text/html": [
              "<div>\n",
              "<style scoped>\n",
              "    .dataframe tbody tr th:only-of-type {\n",
              "        vertical-align: middle;\n",
              "    }\n",
              "\n",
              "    .dataframe tbody tr th {\n",
              "        vertical-align: top;\n",
              "    }\n",
              "\n",
              "    .dataframe thead th {\n",
              "        text-align: right;\n",
              "    }\n",
              "</style>\n",
              "<table border=\"1\" class=\"dataframe\">\n",
              "  <thead>\n",
              "    <tr style=\"text-align: right;\">\n",
              "      <th></th>\n",
              "      <th>timestamp</th>\n",
              "      <th>visit_id</th>\n",
              "      <th>url</th>\n",
              "      <th>region</th>\n",
              "      <th>user_id</th>\n",
              "      <th>traffic_source</th>\n",
              "    </tr>\n",
              "  </thead>\n",
              "  <tbody>\n",
              "    <tr>\n",
              "      <th>0</th>\n",
              "      <td>1549980692</td>\n",
              "      <td>e3b0c44298</td>\n",
              "      <td>https://host.ru/3c19b4ef7371864fa3</td>\n",
              "      <td>Russia</td>\n",
              "      <td>b1613cc09f</td>\n",
              "      <td>yandex</td>\n",
              "    </tr>\n",
              "    <tr>\n",
              "      <th>1</th>\n",
              "      <td>1549980704</td>\n",
              "      <td>6e340b9cff</td>\n",
              "      <td>https://host.ru/c8d9213a31839f9a3a</td>\n",
              "      <td>Russia</td>\n",
              "      <td>4c3ec14bee</td>\n",
              "      <td>direct</td>\n",
              "    </tr>\n",
              "    <tr>\n",
              "      <th>2</th>\n",
              "      <td>1549980715</td>\n",
              "      <td>96a296d224</td>\n",
              "      <td>https://host.ru/b8b58337d272ee7b15</td>\n",
              "      <td>Russia</td>\n",
              "      <td>a8c40697fb</td>\n",
              "      <td>yandex</td>\n",
              "    </tr>\n",
              "    <tr>\n",
              "      <th>3</th>\n",
              "      <td>1549980725</td>\n",
              "      <td>709e80c884</td>\n",
              "      <td>https://host.ru/b8b58337d272ee7b15</td>\n",
              "      <td>Russia</td>\n",
              "      <td>521ac1d6a0</td>\n",
              "      <td>yandex</td>\n",
              "    </tr>\n",
              "    <tr>\n",
              "      <th>4</th>\n",
              "      <td>1549980736</td>\n",
              "      <td>df3f619804</td>\n",
              "      <td>https://host.ru/b8b58337d272ee7b15</td>\n",
              "      <td>Russia</td>\n",
              "      <td>d7323c571c</td>\n",
              "      <td>yandex</td>\n",
              "    </tr>\n",
              "  </tbody>\n",
              "</table>\n",
              "</div>"
            ],
            "text/plain": [
              "    timestamp    visit_id  ...     user_id traffic_source\n",
              "0  1549980692  e3b0c44298  ...  b1613cc09f         yandex\n",
              "1  1549980704  6e340b9cff  ...  4c3ec14bee         direct\n",
              "2  1549980715  96a296d224  ...  a8c40697fb         yandex\n",
              "3  1549980725  709e80c884  ...  521ac1d6a0         yandex\n",
              "4  1549980736  df3f619804  ...  d7323c571c         yandex\n",
              "\n",
              "[5 rows x 6 columns]"
            ]
          },
          "metadata": {
            "tags": []
          },
          "execution_count": 3
        }
      ]
    },
    {
      "cell_type": "code",
      "metadata": {
        "id": "OczJMErcoYFa",
        "colab": {
          "base_uri": "https://localhost:8080/",
          "height": 202
        },
        "outputId": "5a90faf4-3ecd-4d18-ca8a-cd67471c9542"
      },
      "source": [
        "def type(row):\n",
        "  if row['traffic_source'] == 'yandex' or row['traffic_source'] == 'google':\n",
        "    return 'organic'\n",
        "  elif  row['traffic_source'] == 'paid' and row['region'] == 'Russia' or row['traffic_source'] == 'email' and row['region'] == 'Russia':\n",
        "    return 'ad'\n",
        "  elif  row['traffic_source'] == 'paid' and row['region'] != 'Russia' or row['traffic_source'] == 'email' and row['region'] != 'Russia':\n",
        "    return 'other'\n",
        "  else:\n",
        "    return row['traffic_source']\n",
        "\n",
        "data['source_type'] = data.apply(type, axis=1)\n",
        "data.head()\n"
      ],
      "execution_count": null,
      "outputs": [
        {
          "output_type": "execute_result",
          "data": {
            "text/html": [
              "<div>\n",
              "<style scoped>\n",
              "    .dataframe tbody tr th:only-of-type {\n",
              "        vertical-align: middle;\n",
              "    }\n",
              "\n",
              "    .dataframe tbody tr th {\n",
              "        vertical-align: top;\n",
              "    }\n",
              "\n",
              "    .dataframe thead th {\n",
              "        text-align: right;\n",
              "    }\n",
              "</style>\n",
              "<table border=\"1\" class=\"dataframe\">\n",
              "  <thead>\n",
              "    <tr style=\"text-align: right;\">\n",
              "      <th></th>\n",
              "      <th>timestamp</th>\n",
              "      <th>visit_id</th>\n",
              "      <th>url</th>\n",
              "      <th>region</th>\n",
              "      <th>user_id</th>\n",
              "      <th>traffic_source</th>\n",
              "      <th>source_type</th>\n",
              "    </tr>\n",
              "  </thead>\n",
              "  <tbody>\n",
              "    <tr>\n",
              "      <th>0</th>\n",
              "      <td>1549980692</td>\n",
              "      <td>e3b0c44298</td>\n",
              "      <td>https://host.ru/3c19b4ef7371864fa3</td>\n",
              "      <td>Russia</td>\n",
              "      <td>b1613cc09f</td>\n",
              "      <td>yandex</td>\n",
              "      <td>organic</td>\n",
              "    </tr>\n",
              "    <tr>\n",
              "      <th>1</th>\n",
              "      <td>1549980704</td>\n",
              "      <td>6e340b9cff</td>\n",
              "      <td>https://host.ru/c8d9213a31839f9a3a</td>\n",
              "      <td>Russia</td>\n",
              "      <td>4c3ec14bee</td>\n",
              "      <td>direct</td>\n",
              "      <td>direct</td>\n",
              "    </tr>\n",
              "    <tr>\n",
              "      <th>2</th>\n",
              "      <td>1549980715</td>\n",
              "      <td>96a296d224</td>\n",
              "      <td>https://host.ru/b8b58337d272ee7b15</td>\n",
              "      <td>Russia</td>\n",
              "      <td>a8c40697fb</td>\n",
              "      <td>yandex</td>\n",
              "      <td>organic</td>\n",
              "    </tr>\n",
              "    <tr>\n",
              "      <th>3</th>\n",
              "      <td>1549980725</td>\n",
              "      <td>709e80c884</td>\n",
              "      <td>https://host.ru/b8b58337d272ee7b15</td>\n",
              "      <td>Russia</td>\n",
              "      <td>521ac1d6a0</td>\n",
              "      <td>yandex</td>\n",
              "      <td>organic</td>\n",
              "    </tr>\n",
              "    <tr>\n",
              "      <th>4</th>\n",
              "      <td>1549980736</td>\n",
              "      <td>df3f619804</td>\n",
              "      <td>https://host.ru/b8b58337d272ee7b15</td>\n",
              "      <td>Russia</td>\n",
              "      <td>d7323c571c</td>\n",
              "      <td>yandex</td>\n",
              "      <td>organic</td>\n",
              "    </tr>\n",
              "  </tbody>\n",
              "</table>\n",
              "</div>"
            ],
            "text/plain": [
              "    timestamp    visit_id  ... traffic_source source_type\n",
              "0  1549980692  e3b0c44298  ...         yandex     organic\n",
              "1  1549980704  6e340b9cff  ...         direct      direct\n",
              "2  1549980715  96a296d224  ...         yandex     organic\n",
              "3  1549980725  709e80c884  ...         yandex     organic\n",
              "4  1549980736  df3f619804  ...         yandex     organic\n",
              "\n",
              "[5 rows x 7 columns]"
            ]
          },
          "metadata": {
            "tags": []
          },
          "execution_count": 7
        }
      ]
    },
    {
      "cell_type": "markdown",
      "metadata": {
        "id": "TvW_-MXOVj2p"
      },
      "source": [
        "Задание 2\n",
        "\n",
        "В файле URLs.txt содержатся url страница новостного сайта. Вам необходимо отфильтровать его по адресам страниц с текстами новостей.\n",
        " Известно, что шаблон страницы новостей имеет внутри url следующую конструкцию: /, затем 8 цифр, затем дефис. Выполните следующие действия:\n",
        "\n",
        "- Прочитайте содержимое файла с датафрейм\n",
        "\n",
        "- Отфильтруйте страницы с текстом новостей, используя метод str.contains и регулярное выражение в соответствии с заданным шаблоном"
      ]
    },
    {
      "cell_type": "code",
      "metadata": {
        "colab": {
          "base_uri": "https://localhost:8080/",
          "height": 202
        },
        "id": "vW_0zPcsVtCH",
        "outputId": "5dd5a9e3-84ce-4be4-c5b0-d405a42aa4fe"
      },
      "source": [
        "page = pd.read_table('URLs.txt', sep='|')\n",
        "page[page['url'].str.contains('/\\d\\d\\d\\d\\d\\d\\d\\d-')].head()"
      ],
      "execution_count": null,
      "outputs": [
        {
          "output_type": "execute_result",
          "data": {
            "text/html": [
              "<div>\n",
              "<style scoped>\n",
              "    .dataframe tbody tr th:only-of-type {\n",
              "        vertical-align: middle;\n",
              "    }\n",
              "\n",
              "    .dataframe tbody tr th {\n",
              "        vertical-align: top;\n",
              "    }\n",
              "\n",
              "    .dataframe thead th {\n",
              "        text-align: right;\n",
              "    }\n",
              "</style>\n",
              "<table border=\"1\" class=\"dataframe\">\n",
              "  <thead>\n",
              "    <tr style=\"text-align: right;\">\n",
              "      <th></th>\n",
              "      <th>url</th>\n",
              "    </tr>\n",
              "  </thead>\n",
              "  <tbody>\n",
              "    <tr>\n",
              "      <th>3</th>\n",
              "      <td>/politics/36188461-s-marta-zhizn-rossiyan-susc...</td>\n",
              "    </tr>\n",
              "    <tr>\n",
              "      <th>4</th>\n",
              "      <td>/world/36007585-tramp-pridumal-kak-reshit-ukra...</td>\n",
              "    </tr>\n",
              "    <tr>\n",
              "      <th>5</th>\n",
              "      <td>/science/36157853-nasa-sobiraet-ekstrennuyu-pr...</td>\n",
              "    </tr>\n",
              "    <tr>\n",
              "      <th>6</th>\n",
              "      <td>/video/36001498-poyavilis-pervye-podrobnosti-g...</td>\n",
              "    </tr>\n",
              "    <tr>\n",
              "      <th>7</th>\n",
              "      <td>/world/36007585-tramp-pridumal-kak-reshit-ukra...</td>\n",
              "    </tr>\n",
              "  </tbody>\n",
              "</table>\n",
              "</div>"
            ],
            "text/plain": [
              "                                                 url\n",
              "3  /politics/36188461-s-marta-zhizn-rossiyan-susc...\n",
              "4  /world/36007585-tramp-pridumal-kak-reshit-ukra...\n",
              "5  /science/36157853-nasa-sobiraet-ekstrennuyu-pr...\n",
              "6  /video/36001498-poyavilis-pervye-podrobnosti-g...\n",
              "7  /world/36007585-tramp-pridumal-kak-reshit-ukra..."
            ]
          },
          "metadata": {
            "tags": []
          },
          "execution_count": 17
        }
      ]
    },
    {
      "cell_type": "markdown",
      "metadata": {
        "id": "mqMEFsKnka9Q"
      },
      "source": [
        "Задание 3\n",
        "\n",
        "Используйте файл с оценками фильмов ml-latest-small/ratings.csv. Посчитайте среднее время жизни пользователей, которые выставили более 100 оценок. Под временем жизни понимается разница между максимальным и минимальным значением столбца timestamp для данного значения userId."
      ]
    },
    {
      "cell_type": "code",
      "metadata": {
        "id": "-N6N_D9VkLTw",
        "colab": {
          "base_uri": "https://localhost:8080/",
          "height": 202
        },
        "outputId": "9f82e5d6-c36e-4d8b-f2b6-55ea4ae5e91f"
      },
      "source": [
        "data = pd.read_csv('ratings.csv')\n",
        "data.head()"
      ],
      "execution_count": null,
      "outputs": [
        {
          "output_type": "execute_result",
          "data": {
            "text/html": [
              "<div>\n",
              "<style scoped>\n",
              "    .dataframe tbody tr th:only-of-type {\n",
              "        vertical-align: middle;\n",
              "    }\n",
              "\n",
              "    .dataframe tbody tr th {\n",
              "        vertical-align: top;\n",
              "    }\n",
              "\n",
              "    .dataframe thead th {\n",
              "        text-align: right;\n",
              "    }\n",
              "</style>\n",
              "<table border=\"1\" class=\"dataframe\">\n",
              "  <thead>\n",
              "    <tr style=\"text-align: right;\">\n",
              "      <th></th>\n",
              "      <th>userId</th>\n",
              "      <th>movieId</th>\n",
              "      <th>rating</th>\n",
              "      <th>timestamp</th>\n",
              "    </tr>\n",
              "  </thead>\n",
              "  <tbody>\n",
              "    <tr>\n",
              "      <th>0</th>\n",
              "      <td>1</td>\n",
              "      <td>31</td>\n",
              "      <td>2.5</td>\n",
              "      <td>1260759144</td>\n",
              "    </tr>\n",
              "    <tr>\n",
              "      <th>1</th>\n",
              "      <td>1</td>\n",
              "      <td>1029</td>\n",
              "      <td>3.0</td>\n",
              "      <td>1260759179</td>\n",
              "    </tr>\n",
              "    <tr>\n",
              "      <th>2</th>\n",
              "      <td>1</td>\n",
              "      <td>1061</td>\n",
              "      <td>3.0</td>\n",
              "      <td>1260759182</td>\n",
              "    </tr>\n",
              "    <tr>\n",
              "      <th>3</th>\n",
              "      <td>1</td>\n",
              "      <td>1129</td>\n",
              "      <td>2.0</td>\n",
              "      <td>1260759185</td>\n",
              "    </tr>\n",
              "    <tr>\n",
              "      <th>4</th>\n",
              "      <td>1</td>\n",
              "      <td>1172</td>\n",
              "      <td>4.0</td>\n",
              "      <td>1260759205</td>\n",
              "    </tr>\n",
              "  </tbody>\n",
              "</table>\n",
              "</div>"
            ],
            "text/plain": [
              "   userId  movieId  rating   timestamp\n",
              "0       1       31     2.5  1260759144\n",
              "1       1     1029     3.0  1260759179\n",
              "2       1     1061     3.0  1260759182\n",
              "3       1     1129     2.0  1260759185\n",
              "4       1     1172     4.0  1260759205"
            ]
          },
          "metadata": {
            "tags": []
          },
          "execution_count": 4
        }
      ]
    },
    {
      "cell_type": "code",
      "metadata": {
        "colab": {
          "base_uri": "https://localhost:8080/",
          "height": 202
        },
        "id": "Ygz3wxuDf8RM",
        "outputId": "b872d017-fae9-459a-8216-8d337868d770"
      },
      "source": [
        "group_data = data.groupby('userId').agg({'timestamp': ['min', 'max', 'count']})['timestamp'].query('count > 100').reset_index()\n",
        "group_data.head()"
      ],
      "execution_count": null,
      "outputs": [
        {
          "output_type": "execute_result",
          "data": {
            "text/html": [
              "<div>\n",
              "<style scoped>\n",
              "    .dataframe tbody tr th:only-of-type {\n",
              "        vertical-align: middle;\n",
              "    }\n",
              "\n",
              "    .dataframe tbody tr th {\n",
              "        vertical-align: top;\n",
              "    }\n",
              "\n",
              "    .dataframe thead th {\n",
              "        text-align: right;\n",
              "    }\n",
              "</style>\n",
              "<table border=\"1\" class=\"dataframe\">\n",
              "  <thead>\n",
              "    <tr style=\"text-align: right;\">\n",
              "      <th></th>\n",
              "      <th>userId</th>\n",
              "      <th>min</th>\n",
              "      <th>max</th>\n",
              "      <th>count</th>\n",
              "    </tr>\n",
              "  </thead>\n",
              "  <tbody>\n",
              "    <tr>\n",
              "      <th>0</th>\n",
              "      <td>4</td>\n",
              "      <td>949778714</td>\n",
              "      <td>949982274</td>\n",
              "      <td>204</td>\n",
              "    </tr>\n",
              "    <tr>\n",
              "      <th>1</th>\n",
              "      <td>8</td>\n",
              "      <td>1154389340</td>\n",
              "      <td>1154474527</td>\n",
              "      <td>116</td>\n",
              "    </tr>\n",
              "    <tr>\n",
              "      <th>2</th>\n",
              "      <td>15</td>\n",
              "      <td>997937239</td>\n",
              "      <td>1469330735</td>\n",
              "      <td>1700</td>\n",
              "    </tr>\n",
              "    <tr>\n",
              "      <th>3</th>\n",
              "      <td>17</td>\n",
              "      <td>1127468587</td>\n",
              "      <td>1127476640</td>\n",
              "      <td>363</td>\n",
              "    </tr>\n",
              "    <tr>\n",
              "      <th>4</th>\n",
              "      <td>19</td>\n",
              "      <td>855190091</td>\n",
              "      <td>855195373</td>\n",
              "      <td>423</td>\n",
              "    </tr>\n",
              "  </tbody>\n",
              "</table>\n",
              "</div>"
            ],
            "text/plain": [
              "   userId         min         max  count\n",
              "0       4   949778714   949982274    204\n",
              "1       8  1154389340  1154474527    116\n",
              "2      15   997937239  1469330735   1700\n",
              "3      17  1127468587  1127476640    363\n",
              "4      19   855190091   855195373    423"
            ]
          },
          "metadata": {
            "tags": []
          },
          "execution_count": 5
        }
      ]
    },
    {
      "cell_type": "code",
      "metadata": {
        "colab": {
          "base_uri": "https://localhost:8080/"
        },
        "id": "aVcXuzNoMga1",
        "outputId": "498499c1-f021-4492-edf5-ccd8551a29d5"
      },
      "source": [
        "group_data['average'] = group_data['max']-group_data['min']\n",
        "res = group_data['average'].mean()\n",
        "res"
      ],
      "execution_count": null,
      "outputs": [
        {
          "output_type": "execute_result",
          "data": {
            "text/plain": [
              "40080507.4496124"
            ]
          },
          "metadata": {
            "tags": []
          },
          "execution_count": 17
        }
      ]
    },
    {
      "cell_type": "markdown",
      "metadata": {
        "id": "I29aDbqmRRMd"
      },
      "source": [
        "Задание 4\n",
        "\n",
        "Дана статистика услуг перевозок клиентов компании по типам (см. файл “Python_13_join.ipynb” в разделе Материалы для лекции «Продвинутый pandas» ---- Ноутбуки к лекции «Продвинутый pandas»).\n",
        "\n",
        "  Необходимо сформировать две таблицы:\n",
        "- таблицу с тремя типами выручки для каждого client_id без указания адреса клиента\n",
        "- аналогичную таблицу по типам выручки с указанием адреса клиента\n",
        "\n",
        "  Обратите внимание, что в процессе объединения таблиц данные не должны теряться.\n",
        "  \n",
        "  Дана статистика услуг перевозок клиентов компании по типам:\n",
        "\n",
        "- rzd - железнодорожные перевозки\n",
        "- auto - автомобильные перевозки\n",
        "- air - воздушные перевозки\n",
        "- client_base - адреса клиентов"
      ]
    },
    {
      "cell_type": "code",
      "metadata": {
        "colab": {
          "base_uri": "https://localhost:8080/",
          "height": 202
        },
        "id": "9Rb1xk3uRP-b",
        "outputId": "989f11ab-78c6-46dc-dc82-4786544df4e5"
      },
      "source": [
        "rzd = pd.DataFrame(\n",
        "    {\n",
        "        'client_id': [111, 112, 113, 114, 115],\n",
        "        'rzd_revenue': [1093, 2810, 10283, 5774, 981]\n",
        "    }\n",
        ")\n",
        "rzd\n",
        "\n",
        "auto = pd.DataFrame(\n",
        "    {\n",
        "        'client_id': [113, 114, 115, 116, 117],\n",
        "        'auto_revenue': [57483, 83, 912, 4834, 98]\n",
        "    }\n",
        ")\n",
        "auto\n",
        "\n",
        "air = pd.DataFrame(\n",
        "    {\n",
        "        'client_id': [115, 116, 117, 118],\n",
        "        'air_revenue': [81, 4, 13, 173]\n",
        "    }\n",
        ")\n",
        "air\n",
        "\n",
        "client_base = pd.DataFrame(\n",
        "    {\n",
        "        'client_id': [111, 112, 113, 114, 115, 116, 117, 118],\n",
        "        'address': ['Комсомольская 4', 'Энтузиастов 8а', 'Левобережная 1а', 'Мира 14', 'ЗЖБИиДК 1', \n",
        "                    'Строителей 18', 'Панфиловская 33', 'Мастеркова 4']\n",
        "    }\n",
        ")\n",
        "client_base\n",
        "\n",
        "tabl1 = rzd.merge(auto, how='outer',on='client_id')\n",
        "tabl2 = tabl1.merge(air, how='outer',on='client_id').fillna(0)"
      ],
      "execution_count": null,
      "outputs": [
        {
          "output_type": "execute_result",
          "data": {
            "text/html": [
              "<div>\n",
              "<style scoped>\n",
              "    .dataframe tbody tr th:only-of-type {\n",
              "        vertical-align: middle;\n",
              "    }\n",
              "\n",
              "    .dataframe tbody tr th {\n",
              "        vertical-align: top;\n",
              "    }\n",
              "\n",
              "    .dataframe thead th {\n",
              "        text-align: right;\n",
              "    }\n",
              "</style>\n",
              "<table border=\"1\" class=\"dataframe\">\n",
              "  <thead>\n",
              "    <tr style=\"text-align: right;\">\n",
              "      <th></th>\n",
              "      <th>client_id</th>\n",
              "      <th>rzd_revenue</th>\n",
              "      <th>auto_revenue</th>\n",
              "      <th>air_revenue</th>\n",
              "    </tr>\n",
              "  </thead>\n",
              "  <tbody>\n",
              "    <tr>\n",
              "      <th>0</th>\n",
              "      <td>111</td>\n",
              "      <td>1093.0</td>\n",
              "      <td>0.0</td>\n",
              "      <td>0.0</td>\n",
              "    </tr>\n",
              "    <tr>\n",
              "      <th>1</th>\n",
              "      <td>112</td>\n",
              "      <td>2810.0</td>\n",
              "      <td>0.0</td>\n",
              "      <td>0.0</td>\n",
              "    </tr>\n",
              "    <tr>\n",
              "      <th>2</th>\n",
              "      <td>113</td>\n",
              "      <td>10283.0</td>\n",
              "      <td>57483.0</td>\n",
              "      <td>0.0</td>\n",
              "    </tr>\n",
              "    <tr>\n",
              "      <th>3</th>\n",
              "      <td>114</td>\n",
              "      <td>5774.0</td>\n",
              "      <td>83.0</td>\n",
              "      <td>0.0</td>\n",
              "    </tr>\n",
              "    <tr>\n",
              "      <th>4</th>\n",
              "      <td>115</td>\n",
              "      <td>981.0</td>\n",
              "      <td>912.0</td>\n",
              "      <td>81.0</td>\n",
              "    </tr>\n",
              "  </tbody>\n",
              "</table>\n",
              "</div>"
            ],
            "text/plain": [
              "   client_id  rzd_revenue  auto_revenue  air_revenue\n",
              "0        111       1093.0           0.0          0.0\n",
              "1        112       2810.0           0.0          0.0\n",
              "2        113      10283.0       57483.0          0.0\n",
              "3        114       5774.0          83.0          0.0\n",
              "4        115        981.0         912.0         81.0"
            ]
          },
          "metadata": {
            "tags": []
          },
          "execution_count": 24
        }
      ]
    },
    {
      "cell_type": "code",
      "metadata": {
        "colab": {
          "base_uri": "https://localhost:8080/",
          "height": 202
        },
        "id": "QYNV7JMaZgzP",
        "outputId": "6719c4f1-bf3d-4001-fd2b-44f2e71b84d1"
      },
      "source": [
        "tabl3 = tabl2.merge(client_base, how='outer',on='client_id').fillna(0)\n",
        "tabl3.head()"
      ],
      "execution_count": null,
      "outputs": [
        {
          "output_type": "execute_result",
          "data": {
            "text/html": [
              "<div>\n",
              "<style scoped>\n",
              "    .dataframe tbody tr th:only-of-type {\n",
              "        vertical-align: middle;\n",
              "    }\n",
              "\n",
              "    .dataframe tbody tr th {\n",
              "        vertical-align: top;\n",
              "    }\n",
              "\n",
              "    .dataframe thead th {\n",
              "        text-align: right;\n",
              "    }\n",
              "</style>\n",
              "<table border=\"1\" class=\"dataframe\">\n",
              "  <thead>\n",
              "    <tr style=\"text-align: right;\">\n",
              "      <th></th>\n",
              "      <th>client_id</th>\n",
              "      <th>rzd_revenue</th>\n",
              "      <th>auto_revenue</th>\n",
              "      <th>air_revenue</th>\n",
              "      <th>address</th>\n",
              "    </tr>\n",
              "  </thead>\n",
              "  <tbody>\n",
              "    <tr>\n",
              "      <th>0</th>\n",
              "      <td>111</td>\n",
              "      <td>1093.0</td>\n",
              "      <td>0.0</td>\n",
              "      <td>0.0</td>\n",
              "      <td>Комсомольская 4</td>\n",
              "    </tr>\n",
              "    <tr>\n",
              "      <th>1</th>\n",
              "      <td>112</td>\n",
              "      <td>2810.0</td>\n",
              "      <td>0.0</td>\n",
              "      <td>0.0</td>\n",
              "      <td>Энтузиастов 8а</td>\n",
              "    </tr>\n",
              "    <tr>\n",
              "      <th>2</th>\n",
              "      <td>113</td>\n",
              "      <td>10283.0</td>\n",
              "      <td>57483.0</td>\n",
              "      <td>0.0</td>\n",
              "      <td>Левобережная 1а</td>\n",
              "    </tr>\n",
              "    <tr>\n",
              "      <th>3</th>\n",
              "      <td>114</td>\n",
              "      <td>5774.0</td>\n",
              "      <td>83.0</td>\n",
              "      <td>0.0</td>\n",
              "      <td>Мира 14</td>\n",
              "    </tr>\n",
              "    <tr>\n",
              "      <th>4</th>\n",
              "      <td>115</td>\n",
              "      <td>981.0</td>\n",
              "      <td>912.0</td>\n",
              "      <td>81.0</td>\n",
              "      <td>ЗЖБИиДК 1</td>\n",
              "    </tr>\n",
              "  </tbody>\n",
              "</table>\n",
              "</div>"
            ],
            "text/plain": [
              "   client_id  rzd_revenue  auto_revenue  air_revenue          address\n",
              "0        111       1093.0           0.0          0.0  Комсомольская 4\n",
              "1        112       2810.0           0.0          0.0   Энтузиастов 8а\n",
              "2        113      10283.0       57483.0          0.0  Левобережная 1а\n",
              "3        114       5774.0          83.0          0.0          Мира 14\n",
              "4        115        981.0         912.0         81.0        ЗЖБИиДК 1"
            ]
          },
          "metadata": {
            "tags": []
          },
          "execution_count": 25
        }
      ]
    }
  ]
}